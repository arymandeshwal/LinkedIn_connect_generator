{
 "cells": [
  {
   "cell_type": "code",
   "execution_count": 1,
   "metadata": {},
   "outputs": [],
   "source": [
    "from selenium import webdriver\n",
    "import time\n",
    "from selenium.webdriver.common.keys import Keys"
   ]
  },
  {
   "cell_type": "code",
   "execution_count": 2,
   "metadata": {},
   "outputs": [],
   "source": [
    "class Linkedin:\n",
    "    def __init__(self):\n",
    "        self.bot = webdriver.Firefox()\n",
    "    def start(self):\n",
    "        bot= self.bot\n",
    "        bot.get('https://www.linkedin.com/login?fromSignIn=true&trk=guest_homepage-basic_nav-header-signin')\n",
    "        time.sleep(2)\n",
    "        email = bot.find_element_by_name('session_key')\n",
    "        password = bot.find_element_by_name('session_password')\n",
    "        email.send_keys('')\n",
    "        password.send_keys('')\n",
    "        password.send_keys(Keys.RETURN)\n",
    "        time.sleep(7)\n",
    "        #bot.find_element_by_id('mynetwork-tab-icon').click()\n",
    "        bot.get('https://www.linkedin.com/mynetwork/')\n",
    "    \n",
    "    def connects(self):\n",
    "        bot = self.bot\n",
    "        time.sleep(3)\n",
    "        bot.execute_script('window.scrollTo(0,document.body.scrollHeight)')\n",
    "        msgs = bot.find_elements_by_class_name('msg-overlay-bubble-header__control.msg-overlay-bubble-header__control--new-convo-btn.artdeco-button.artdeco-button--circle.artdeco-button--inverse.artdeco-button--1.artdeco-button--tertiary.ember-view')\n",
    "        len(msgs)\n",
    "        msg = msgs[1]\n",
    "        msg.click()\n",
    "        for i in range(5):\n",
    "            try:\n",
    "                buttons = bot.find_elements_by_class_name('artdeco-button__text')\n",
    "                for button in buttons:\n",
    "                    if button.text == \"Connect\":\n",
    "                        try:\n",
    "                            button.click()\n",
    "                            time.sleep(0.5)\n",
    "                        except:\n",
    "                            continue\n",
    "                bot.execute_script('window.scrollTo(0,document.body.scrollHeight)')\n",
    "            except:\n",
    "                continue"
   ]
  },
  {
   "cell_type": "code",
   "execution_count": 3,
   "metadata": {
    "scrolled": true
   },
   "outputs": [],
   "source": [
    "l = Linkedin()\n",
    "l.start()\n",
    "time.sleep(2)\n",
    "l.connects()"
   ]
  },
  {
   "cell_type": "code",
   "execution_count": null,
   "metadata": {},
   "outputs": [],
   "source": [
    "|"
   ]
  }
 ],
 "metadata": {
  "kernelspec": {
   "display_name": "Python 3",
   "language": "python",
   "name": "python3"
  },
  "language_info": {
   "codemirror_mode": {
    "name": "ipython",
    "version": 3
   },
   "file_extension": ".py",
   "mimetype": "text/x-python",
   "name": "python",
   "nbconvert_exporter": "python",
   "pygments_lexer": "ipython3",
   "version": "3.8.2"
  }
 },
 "nbformat": 4,
 "nbformat_minor": 4
}
